{
 "cells": [
  {
   "cell_type": "code",
   "execution_count": 1,
   "metadata": {},
   "outputs": [
    {
     "name": "stdout",
     "output_type": "stream",
     "text": [
      "Defaulting to user installation because normal site-packages is not writeable\n",
      "Collecting openai\n",
      "  Downloading openai-1.2.3-py3-none-any.whl (220 kB)\n",
      "\u001b[2K     \u001b[90m━━━━━━━━━━━━━━━━━━━━━━━━━━━━━━━━━━━━━━\u001b[0m \u001b[32m220.3/220.3 kB\u001b[0m \u001b[31m10.1 MB/s\u001b[0m eta \u001b[36m0:00:00\u001b[0m\n",
      "\u001b[?25hCollecting anyio<4,>=3.5.0 (from openai)\n",
      "  Downloading anyio-3.7.1-py3-none-any.whl (80 kB)\n",
      "\u001b[2K     \u001b[90m━━━━━━━━━━━━━━━━━━━━━━━━━━━━━━━━━━━━━━━━\u001b[0m \u001b[32m80.9/80.9 kB\u001b[0m \u001b[31m4.5 MB/s\u001b[0m eta \u001b[36m0:00:00\u001b[0m\n",
      "\u001b[?25hCollecting distro<2,>=1.7.0 (from openai)\n",
      "  Downloading distro-1.8.0-py3-none-any.whl (20 kB)\n",
      "Collecting httpx<1,>=0.23.0 (from openai)\n",
      "  Downloading httpx-0.25.1-py3-none-any.whl (75 kB)\n",
      "\u001b[2K     \u001b[90m━━━━━━━━━━━━━━━━━━━━━━━━━━━━━━━━━━━━━━━━\u001b[0m \u001b[32m75.0/75.0 kB\u001b[0m \u001b[31m4.0 MB/s\u001b[0m eta \u001b[36m0:00:00\u001b[0m\n",
      "\u001b[?25hCollecting pydantic<3,>=1.9.0 (from openai)\n",
      "  Downloading pydantic-2.4.2-py3-none-any.whl (395 kB)\n",
      "\u001b[2K     \u001b[90m━━━━━━━━━━━━━━━━━━━━━━━━━━━━━━━━━━━━━━\u001b[0m \u001b[32m395.8/395.8 kB\u001b[0m \u001b[31m16.2 MB/s\u001b[0m eta \u001b[36m0:00:00\u001b[0m\n",
      "\u001b[?25hCollecting tqdm>4 (from openai)\n",
      "  Downloading tqdm-4.66.1-py3-none-any.whl (78 kB)\n",
      "\u001b[2K     \u001b[90m━━━━━━━━━━━━━━━━━━━━━━━━━━━━━━━━━━━━━━━━\u001b[0m \u001b[32m78.3/78.3 kB\u001b[0m \u001b[31m4.3 MB/s\u001b[0m eta \u001b[36m0:00:00\u001b[0m\n",
      "\u001b[?25hCollecting typing-extensions<5,>=4.5 (from openai)\n",
      "  Downloading typing_extensions-4.8.0-py3-none-any.whl (31 kB)\n",
      "Collecting idna>=2.8 (from anyio<4,>=3.5.0->openai)\n",
      "  Downloading idna-3.4-py3-none-any.whl (61 kB)\n",
      "\u001b[2K     \u001b[90m━━━━━━━━━━━━━━━━━━━━━━━━━━━━━━━━━━━━━━━━\u001b[0m \u001b[32m61.5/61.5 kB\u001b[0m \u001b[31m3.3 MB/s\u001b[0m eta \u001b[36m0:00:00\u001b[0m\n",
      "\u001b[?25hCollecting sniffio>=1.1 (from anyio<4,>=3.5.0->openai)\n",
      "  Downloading sniffio-1.3.0-py3-none-any.whl (10 kB)\n",
      "Collecting certifi (from httpx<1,>=0.23.0->openai)\n",
      "  Downloading certifi-2023.7.22-py3-none-any.whl (158 kB)\n",
      "\u001b[2K     \u001b[90m━━━━━━━━━━━━━━━━━━━━━━━━━━━━━━━━━━━━━━━\u001b[0m \u001b[32m158.3/158.3 kB\u001b[0m \u001b[31m8.7 MB/s\u001b[0m eta \u001b[36m0:00:00\u001b[0m\n",
      "\u001b[?25hCollecting httpcore (from httpx<1,>=0.23.0->openai)\n",
      "  Downloading httpcore-1.0.2-py3-none-any.whl (76 kB)\n",
      "\u001b[2K     \u001b[90m━━━━━━━━━━━━━━━━━━━━━━━━━━━━━━━━━━━━━━━━\u001b[0m \u001b[32m76.9/76.9 kB\u001b[0m \u001b[31m4.4 MB/s\u001b[0m eta \u001b[36m0:00:00\u001b[0m\n",
      "\u001b[?25hCollecting annotated-types>=0.4.0 (from pydantic<3,>=1.9.0->openai)\n",
      "  Downloading annotated_types-0.6.0-py3-none-any.whl (12 kB)\n",
      "Collecting pydantic-core==2.10.1 (from pydantic<3,>=1.9.0->openai)\n",
      "  Downloading pydantic_core-2.10.1-cp311-cp311-manylinux_2_17_x86_64.manylinux2014_x86_64.whl (2.0 MB)\n",
      "\u001b[2K     \u001b[90m━━━━━━━━━━━━━━━━━━━━━━━━━━━━━━━━━━━━━━━━\u001b[0m \u001b[32m2.0/2.0 MB\u001b[0m \u001b[31m31.1 MB/s\u001b[0m eta \u001b[36m0:00:00\u001b[0m00:01\u001b[0m\n",
      "\u001b[?25hCollecting h11<0.15,>=0.13 (from httpcore->httpx<1,>=0.23.0->openai)\n",
      "  Downloading h11-0.14.0-py3-none-any.whl (58 kB)\n",
      "\u001b[2K     \u001b[90m━━━━━━━━━━━━━━━━━━━━━━━━━━━━━━━━━━━━━━━━\u001b[0m \u001b[32m58.3/58.3 kB\u001b[0m \u001b[31m3.0 MB/s\u001b[0m eta \u001b[36m0:00:00\u001b[0m\n",
      "\u001b[?25hInstalling collected packages: typing-extensions, tqdm, sniffio, idna, h11, distro, certifi, annotated-types, pydantic-core, httpcore, anyio, pydantic, httpx, openai\n",
      "Successfully installed annotated-types-0.6.0 anyio-3.7.1 certifi-2023.7.22 distro-1.8.0 h11-0.14.0 httpcore-1.0.2 httpx-0.25.1 idna-3.4 openai-1.2.3 pydantic-2.4.2 pydantic-core-2.10.1 sniffio-1.3.0 tqdm-4.66.1 typing-extensions-4.8.0\n",
      "\n",
      "\u001b[1m[\u001b[0m\u001b[34;49mnotice\u001b[0m\u001b[1;39;49m]\u001b[0m\u001b[39;49m A new release of pip is available: \u001b[0m\u001b[31;49m23.1.2\u001b[0m\u001b[39;49m -> \u001b[0m\u001b[32;49m23.3.1\u001b[0m\n",
      "\u001b[1m[\u001b[0m\u001b[34;49mnotice\u001b[0m\u001b[1;39;49m]\u001b[0m\u001b[39;49m To update, run: \u001b[0m\u001b[32;49mpip install --upgrade pip\u001b[0m\n",
      "Note: you may need to restart the kernel to use updated packages.\n"
     ]
    }
   ],
   "source": [
    "%pip install openai\n",
    "from pprint import pprint\n",
    "import openai\n",
    "from openai import OpenAI\n",
    "import os"
   ]
  },
  {
   "cell_type": "code",
   "execution_count": 4,
   "metadata": {},
   "outputs": [],
   "source": [
    "openai.api_key = os.environ.get('OPENAI_API_KEY')\n"
   ]
  },
  {
   "cell_type": "code",
   "execution_count": 6,
   "metadata": {},
   "outputs": [],
   "source": [
    "client = OpenAI(api_key=openai.api_key)    "
   ]
  },
  {
   "cell_type": "code",
   "execution_count": 10,
   "metadata": {},
   "outputs": [],
   "source": [
    "#read in credit_risk_dataset.csv and chunk it into 1000 row chunks\n",
    "import pandas as pd\n",
    "df = pd.read_csv('credit_risk_dataset.csv')\n",
    "#chunk into 1000 row chunks\n",
    "df_chunks = [df[i:i+1000] for i in range(0,df.shape[0],1000)]\n",
    "# write out chucks to separate json files\n",
    "for i in range(len(df_chunks)):\n",
    "    df_chunks[i].to_json(f'credit_risk_dataset_{i}.json', orient='records')"
   ]
  },
  {
   "cell_type": "code",
   "execution_count": 18,
   "metadata": {},
   "outputs": [],
   "source": [
    "file = client.files.create(file=open('credit_risk_dataset_0.json', 'rb'), purpose='assistants')\n",
    "file_id = file.id"
   ]
  },
  {
   "cell_type": "code",
   "execution_count": 19,
   "metadata": {},
   "outputs": [
    {
     "name": "stdout",
     "output_type": "stream",
     "text": [
      "file-TVWLkt1zUO1RmiTw5QT9DvOp\n",
      "SyncPage[FileObject](data=[FileObject(id='file-TVWLkt1zUO1RmiTw5QT9DvOp', bytes=285278, created_at=1699723808, filename='credit_risk_dataset_0.json', object='file', purpose='assistants', status='processed', status_details=None), FileObject(id='file-vhJ701wWZmK9kf5RvbDec5GJ', bytes=285278, created_at=1699723792, filename='credit_risk_dataset_0.json', object='file', purpose='assistants', status='processed', status_details=None), FileObject(id='file-qg7CwllzF0TFoS0LiSfmy7NZ', bytes=285278, created_at=1699723750, filename='credit_risk_dataset_0.json', object='file', purpose='assistants', status='processed', status_details=None), FileObject(id='file-Yi8O05x6kCMPdDkI6KkaWgoA', bytes=285278, created_at=1699723190, filename='credit_risk_dataset_0.json', object='file', purpose='assistants', status='processed', status_details=None), FileObject(id='file-E1Rxe4e5I7RCklumeZVd0uCK', bytes=1804682, created_at=1699722932, filename='credit_risk_dataset.csv', object='file', purpose='assistants', status='processed', status_details=None), FileObject(id='file-mIQXioOrDPWseiTx18AYPIRp', bytes=2857, created_at=1685104782, filename='compiled_results.csv', object='file', purpose='fine-tune-results', status='processed', status_details=None), FileObject(id='file-NWAQIGk16rvpTFubUlcr0knZ', bytes=1036, created_at=1685104406, filename='file', object='file', purpose='fine-tune', status='processed', status_details=None), FileObject(id='file-v3y4KCRQUDiBwWnyVL0DfwaD', bytes=1310, created_at=1685104405, filename='file', object='file', purpose='fine-tune', status='processed', status_details=None), FileObject(id='file-ydlWxrDeRN8UwYnXLZQOLOZf', bytes=3176, created_at=1685032684, filename='compiled_results.csv', object='file', purpose='fine-tune-results', status='processed', status_details=None), FileObject(id='file-tjGqCpMqbgbagy6T7Ht3TLXE', bytes=1036, created_at=1685028904, filename='file', object='file', purpose='fine-tune', status='processed', status_details=None), FileObject(id='file-R9LFbUIaUjX4fix64rwTrosd', bytes=1310, created_at=1685028903, filename='file', object='file', purpose='fine-tune', status='processed', status_details=None), FileObject(id='file-YaiQnYcQ72XBR3oNz3HYDQah', bytes=1310, created_at=1685028882, filename='file', object='file', purpose='fine-tune', status='processed', status_details=None)], object='list', has_more=False)\n"
     ]
    }
   ],
   "source": [
    "print(file.id)\n",
    "file_list = client.files.list()\n",
    "print(file_list)"
   ]
  },
  {
   "cell_type": "code",
   "execution_count": 21,
   "metadata": {},
   "outputs": [
    {
     "name": "stdout",
     "output_type": "stream",
     "text": [
      "asst_72gLFIRPfYdZ8xxBJG6S21hI\n"
     ]
    }
   ],
   "source": [
    "assistant = client.beta.assistants.create(\n",
    "    instructions=\"This is a test assistant\",\n",
    "    model = \"gpt-4-1106-preview\",\n",
    "    tools = [{\"type\":\"retrieval\"}],\n",
    "    file_ids = [file_id]\n",
    ")\n",
    "print(assistant.id)"
   ]
  },
  {
   "cell_type": "code",
   "execution_count": 22,
   "metadata": {},
   "outputs": [],
   "source": [
    "# update assistant if you need to change the assistant\n",
    "assistant = client.beta.assistants.update(\n",
    "    assistant.id,\n",
    "    instructions=\"This is a test assistant\",\n",
    "    model = \"gpt-4-1106-preview\",\n",
    "    tools = [{\"type\":\"retrieval\"}],\n",
    "    file_ids = [file_id]\n",
    ")"
   ]
  },
  {
   "cell_type": "code",
   "execution_count": 23,
   "metadata": {},
   "outputs": [],
   "source": [
    "# list assistants\n",
    "assistants = client.beta.assistants.list(order=\"desc\")"
   ]
  },
  {
   "cell_type": "code",
   "execution_count": 24,
   "metadata": {},
   "outputs": [],
   "source": [
    "# lets suppose you want to use and existing assistant\n",
    "assistant_id = 'asst_72gLFIRPfYdZ8xxBJG6S21hI'\n",
    "assistant = client.beta.assistants.retrieve(assistant_id)\n"
   ]
  },
  {
   "cell_type": "code",
   "execution_count": 29,
   "metadata": {},
   "outputs": [
    {
     "name": "stdout",
     "output_type": "stream",
     "text": [
      "thread_3x9saDH1hkuUklyOOcL0pExD\n"
     ]
    }
   ],
   "source": [
    "# create a thread\n",
    "thread = client.beta.threads.create()\n",
    "print(thread.id)"
   ]
  },
  {
   "cell_type": "code",
   "execution_count": 32,
   "metadata": {},
   "outputs": [],
   "source": [
    "message = client.beta.threads.messages.create(\n",
    "    thread_id = thread.id,\n",
    "    role = \"user\",\n",
    "    content=\"Hello, I'm a message\"\n",
    ")"
   ]
  },
  {
   "cell_type": "code",
   "execution_count": 35,
   "metadata": {},
   "outputs": [
    {
     "name": "stdout",
     "output_type": "stream",
     "text": [
      "run_N8kJ9jL8WZLSZBR0yl7iI7XF\n"
     ]
    }
   ],
   "source": [
    "# run the assistant to get a response\n",
    "run = client.beta.threads.runs.create(\n",
    "    thread_id = thread.id,\n",
    "    assistant_id = assistant.id,\n",
    "    instructions = \"I want to buy a house\",\n",
    ")\n",
    "print(run.id)"
   ]
  }
 ],
 "metadata": {
  "kernelspec": {
   "display_name": "Python 3",
   "language": "python",
   "name": "python3"
  },
  "language_info": {
   "codemirror_mode": {
    "name": "ipython",
    "version": 3
   },
   "file_extension": ".py",
   "mimetype": "text/x-python",
   "name": "python",
   "nbconvert_exporter": "python",
   "pygments_lexer": "ipython3",
   "version": "3.11.4"
  }
 },
 "nbformat": 4,
 "nbformat_minor": 2
}
