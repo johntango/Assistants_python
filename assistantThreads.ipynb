{
 "cells": [
  {
   "cell_type": "code",
   "execution_count": 1,
   "metadata": {},
   "outputs": [
    {
     "name": "stdout",
     "output_type": "stream",
     "text": [
      "Requirement already satisfied: openai in /Library/Frameworks/Python.framework/Versions/3.11/lib/python3.11/site-packages (1.3.0)\n",
      "Requirement already satisfied: anyio<4,>=3.5.0 in /Library/Frameworks/Python.framework/Versions/3.11/lib/python3.11/site-packages (from openai) (3.7.1)\n",
      "Requirement already satisfied: distro<2,>=1.7.0 in /Library/Frameworks/Python.framework/Versions/3.11/lib/python3.11/site-packages (from openai) (1.8.0)\n",
      "Requirement already satisfied: httpx<1,>=0.23.0 in /Library/Frameworks/Python.framework/Versions/3.11/lib/python3.11/site-packages (from openai) (0.24.1)\n",
      "Requirement already satisfied: pydantic<3,>=1.9.0 in /Library/Frameworks/Python.framework/Versions/3.11/lib/python3.11/site-packages (from openai) (2.1.1)\n",
      "Requirement already satisfied: tqdm>4 in /Library/Frameworks/Python.framework/Versions/3.11/lib/python3.11/site-packages (from openai) (4.66.1)\n",
      "Requirement already satisfied: typing-extensions<5,>=4.5 in /Library/Frameworks/Python.framework/Versions/3.11/lib/python3.11/site-packages (from openai) (4.7.1)\n",
      "Requirement already satisfied: idna>=2.8 in /Library/Frameworks/Python.framework/Versions/3.11/lib/python3.11/site-packages (from anyio<4,>=3.5.0->openai) (3.4)\n",
      "Requirement already satisfied: sniffio>=1.1 in /Library/Frameworks/Python.framework/Versions/3.11/lib/python3.11/site-packages (from anyio<4,>=3.5.0->openai) (1.3.0)\n",
      "Requirement already satisfied: certifi in /Library/Frameworks/Python.framework/Versions/3.11/lib/python3.11/site-packages (from httpx<1,>=0.23.0->openai) (2023.7.22)\n",
      "Requirement already satisfied: httpcore<0.18.0,>=0.15.0 in /Library/Frameworks/Python.framework/Versions/3.11/lib/python3.11/site-packages (from httpx<1,>=0.23.0->openai) (0.17.3)\n",
      "Requirement already satisfied: annotated-types>=0.4.0 in /Library/Frameworks/Python.framework/Versions/3.11/lib/python3.11/site-packages (from pydantic<3,>=1.9.0->openai) (0.5.0)\n",
      "Requirement already satisfied: pydantic-core==2.4.0 in /Library/Frameworks/Python.framework/Versions/3.11/lib/python3.11/site-packages (from pydantic<3,>=1.9.0->openai) (2.4.0)\n",
      "Requirement already satisfied: h11<0.15,>=0.13 in /Library/Frameworks/Python.framework/Versions/3.11/lib/python3.11/site-packages (from httpcore<0.18.0,>=0.15.0->httpx<1,>=0.23.0->openai) (0.14.0)\n",
      "Note: you may need to restart the kernel to use updated packages.\n"
     ]
    }
   ],
   "source": [
    "%pip install openai\n",
    "from pprint import pprint\n",
    "import openai\n",
    "from openai import OpenAI\n",
    "import os"
   ]
  },
  {
   "cell_type": "code",
   "execution_count": 11,
   "metadata": {},
   "outputs": [],
   "source": [
    "#openai.api_key = os.environ.get('OPENAI_API_KEY')\n",
    "# read the api key from a file\n",
    "import json\n",
    "with open('openai_key.json', 'r') as f:\n",
    "    openai.api_key = json.load(f)['OPENAI_API_KEY']\n"
   ]
  },
  {
   "cell_type": "code",
   "execution_count": 12,
   "metadata": {},
   "outputs": [],
   "source": [
    "client = OpenAI(api_key=openai.api_key)    "
   ]
  },
  {
   "cell_type": "code",
   "execution_count": 13,
   "metadata": {},
   "outputs": [],
   "source": [
    "#read in credit_risk_dataset.csv and chunk it into 1000 row chunks\n",
    "import pandas as pd\n",
    "df = pd.read_csv('credit_risk_dataset.csv')\n",
    "#chunk into 1000 row chunks\n",
    "df_chunks = [df[i:i+1000] for i in range(0,df.shape[0],1000)]\n",
    "# write out chucks to separate json files\n",
    "for i in range(len(df_chunks)):\n",
    "    df_chunks[i].to_json(f'credit_risk_dataset_{i}.json', orient='records')"
   ]
  },
  {
   "cell_type": "code",
   "execution_count": 14,
   "metadata": {},
   "outputs": [],
   "source": [
    "file = client.files.create(file=open('credit_risk_dataset_0.json', 'rb'), purpose='assistants')\n",
    "file_id = file.id"
   ]
  },
  {
   "cell_type": "code",
   "execution_count": 15,
   "metadata": {},
   "outputs": [
    {
     "name": "stdout",
     "output_type": "stream",
     "text": [
      "file-GY5abxO8Bg9CrPAYMCMpzNsO\n",
      "SyncPage[FileObject](data=[FileObject(id='file-GY5abxO8Bg9CrPAYMCMpzNsO', bytes=285278, created_at=1700158204, filename='credit_risk_dataset_0.json', object='file', purpose='assistants', status='processed', status_details=None), FileObject(id='file-3GhP01ghbawE6cqlKsF2kCFo', bytes=1804682, created_at=1699793153, filename='credit_risk_dataset.csv', object='file', purpose='assistants', status='processed', status_details=None), FileObject(id='file-pgryNtOQWnpV6okWteSzh8aQ', bytes=285278, created_at=1699791056, filename='credit_risk_dataset_0.json', object='file', purpose='assistants', status='processed', status_details=None), FileObject(id='file-CuKkMFLdepwWXr7RWHyTRU35', bytes=285278, created_at=1699742998, filename='credit_risk_dataset_0.json', object='file', purpose='assistants', status='processed', status_details=None), FileObject(id='file-GyM5HYkPSL20RcSWEogdXv5P', bytes=285278, created_at=1699742476, filename='credit_risk_dataset_0.json', object='file', purpose='assistants', status='processed', status_details=None), FileObject(id='file-MFf28FJrVljD2VLnQW16XQyV', bytes=285278, created_at=1699740213, filename='credit_risk_dataset_0.json', object='file', purpose='assistants', status='processed', status_details=None), FileObject(id='file-soF9rwM1P8F7W2kRZD6zROZq', bytes=285278, created_at=1699737137, filename='credit_risk_dataset_0.json', object='file', purpose='assistants', status='processed', status_details=None), FileObject(id='file-rMyTfoMhqwL55EP0e8H1WLSE', bytes=285278, created_at=1699735896, filename='credit_risk_dataset_0.json', object='file', purpose='assistants', status='processed', status_details=None), FileObject(id='file-UD6OVzWDm6tjjR6dna4lPUhL', bytes=285278, created_at=1699730543, filename='credit_risk_dataset_0.json', object='file', purpose='assistants', status='processed', status_details=None), FileObject(id='file-ijeBSv2NTxaJ8sHbKXkxjJYQ', bytes=11045, created_at=1699727003, filename='fictitious_banking_products (1).json', object='file', purpose='assistants', status='processed', status_details=None), FileObject(id='file-mIQXioOrDPWseiTx18AYPIRp', bytes=2857, created_at=1685104782, filename='compiled_results.csv', object='file', purpose='fine-tune-results', status='processed', status_details=None)], object='list', has_more=False)\n"
     ]
    }
   ],
   "source": [
    "print(file.id)\n",
    "file_list = client.files.list()\n",
    "print(file_list)"
   ]
  },
  {
   "cell_type": "code",
   "execution_count": null,
   "metadata": {},
   "outputs": [],
   "source": [
    "get_youngsters = {\n",
    "  \"name\": \"get_youngsters\",\n",
    "  \"description\": \"Get the youngsters\",\n",
    "  \"parameters\": {\n",
    "    \"type\": \"object\",\n",
    "    \"properties\": {\n",
    "      \"age\": {\n",
    "        \"type\": \"integer\",\n",
    "        \"description\": \"Age cutoff\"\n",
    "      }\n",
    "    },\n",
    "    \"required\": [\n",
    "      \"age\"\n",
    "    ]\n",
    "  }\n",
    "}"
   ]
  },
  {
   "cell_type": "code",
   "execution_count": 16,
   "metadata": {},
   "outputs": [
    {
     "name": "stdout",
     "output_type": "stream",
     "text": [
      "asst_Fb1LNvo5NNGFYVyAlRuq17Um\n"
     ]
    }
   ],
   "source": [
    "assistant = client.beta.assistants.create(\n",
    "    instructions=\"This is a test assistant\",\n",
    "    model = \"gpt-4-1106-preview\",\n",
    "    tools = [{\"type\":\"retrieval\"}],\n",
    "    file_ids = [file_id]\n",
    ")\n",
    "print(assistant.id)"
   ]
  },
  {
   "cell_type": "code",
   "execution_count": 17,
   "metadata": {},
   "outputs": [],
   "source": [
    "# update assistant if you need to change the assistant\n",
    "assistant = client.beta.assistants.update(\n",
    "    assistant.id,\n",
    "    instructions=\"This is a test assistant\",\n",
    "    model = \"gpt-4-1106-preview\",\n",
    "    tools = [{\"type\":\"retrieval\"}],\n",
    "    file_ids = [file_id]\n",
    ")"
   ]
  },
  {
   "cell_type": "code",
   "execution_count": 18,
   "metadata": {},
   "outputs": [],
   "source": [
    "# list assistants\n",
    "assistants = client.beta.assistants.list(order=\"desc\")"
   ]
  },
  {
   "cell_type": "code",
   "execution_count": 20,
   "metadata": {},
   "outputs": [],
   "source": [
    "# lets suppose you want to use and existing assistant\n",
    "assistant_id = 'asst_Fb1LNvo5NNGFYVyAlRuq17Um'\n",
    "assistant = client.beta.assistants.retrieve(assistant_id)\n"
   ]
  },
  {
   "cell_type": "code",
   "execution_count": 21,
   "metadata": {},
   "outputs": [
    {
     "name": "stdout",
     "output_type": "stream",
     "text": [
      "thread_ry20wgVVkAU6vWnAryQUunEB\n"
     ]
    }
   ],
   "source": [
    "# create a thread\n",
    "thread = client.beta.threads.create()\n",
    "print(thread.id)"
   ]
  },
  {
   "cell_type": "code",
   "execution_count": 22,
   "metadata": {},
   "outputs": [],
   "source": [
    "message = client.beta.threads.messages.create(\n",
    "    thread_id = thread.id,\n",
    "    role = \"user\",\n",
    "    content=\"Hello, I'm a message\"\n",
    ")"
   ]
  },
  {
   "cell_type": "code",
   "execution_count": 23,
   "metadata": {},
   "outputs": [
    {
     "name": "stdout",
     "output_type": "stream",
     "text": [
      "run_yV5gHQOYGR1s1oURrBr5JpQf\n"
     ]
    }
   ],
   "source": [
    "# run the assistant to get a response\n",
    "run = client.beta.threads.runs.create(\n",
    "    thread_id = thread.id,\n",
    "    assistant_id = assistant.id,\n",
    "    instructions = \"I want to buy a house\",\n",
    ")\n",
    "print(run.id)"
   ]
  },
  {
   "cell_type": "code",
   "execution_count": 24,
   "metadata": {},
   "outputs": [
    {
     "name": "stdout",
     "output_type": "stream",
     "text": [
      "Run(id='run_yV5gHQOYGR1s1oURrBr5JpQf', assistant_id='asst_Fb1LNvo5NNGFYVyAlRuq17Um', cancelled_at=None, completed_at=1700158285, created_at=1700158283, expires_at=None, failed_at=None, file_ids=['file-GY5abxO8Bg9CrPAYMCMpzNsO'], instructions='I want to buy a house', last_error=None, metadata={}, model='gpt-4-1106-preview', object='thread.run', required_action=None, started_at=1700158283, status='completed', thread_id='thread_ry20wgVVkAU6vWnAryQUunEB', tools=[ToolAssistantToolsRetrieval(type='retrieval')])\n"
     ]
    }
   ],
   "source": [
    "# retrieve the response\n",
    "status = client.beta.threads.runs.retrieve(\n",
    "    thread_id = thread.id,\n",
    "    run_id = run.id\n",
    ")\n",
    "print(status)"
   ]
  },
  {
   "cell_type": "code",
   "execution_count": 25,
   "metadata": {},
   "outputs": [
    {
     "name": "stdout",
     "output_type": "stream",
     "text": [
      "SyncCursorPage[RunStep](data=[RunStep(id='step_42LZo3CTcyljCNDe8MmQwDAh', assistant_id='asst_Fb1LNvo5NNGFYVyAlRuq17Um', cancelled_at=None, completed_at=1700158285, created_at=1700158283, expired_at=None, failed_at=None, last_error=None, metadata=None, object='thread.run.step', run_id='run_yV5gHQOYGR1s1oURrBr5JpQf', status='completed', step_details=MessageCreationStepDetails(message_creation=MessageCreation(message_id='msg_qQB2DKN5LR1azJvls5hJy0X3'), type='message_creation'), thread_id='thread_ry20wgVVkAU6vWnAryQUunEB', type='message_creation', expires_at=None)], object='list', first_id='step_42LZo3CTcyljCNDe8MmQwDAh', last_id='step_42LZo3CTcyljCNDe8MmQwDAh', has_more=False)\n"
     ]
    }
   ],
   "source": [
    "# list out run steps\n",
    "steps = client.beta.threads.runs.steps.list(\n",
    "    thread_id = thread.id,\n",
    "    run_id = run.id\n",
    ")\n",
    "print(steps)"
   ]
  },
  {
   "cell_type": "code",
   "execution_count": null,
   "metadata": {},
   "outputs": [],
   "source": [
    "# CANCEL A RUN - Dont do this if you want to use the run\n",
    "run = client.beta.threads.runs.cancel(\n",
    "    thread_id = thread.id,\n",
    "    run_id = run.id\n",
    ")\n",
    "print(run)"
   ]
  },
  {
   "cell_type": "code",
   "execution_count": 39,
   "metadata": {},
   "outputs": [
    {
     "ename": "KeyboardInterrupt",
     "evalue": "",
     "output_type": "error",
     "traceback": [
      "\u001b[0;31m---------------------------------------------------------------------------\u001b[0m",
      "\u001b[0;31mKeyboardInterrupt\u001b[0m                         Traceback (most recent call last)",
      "\u001b[1;32m/workspaces/Assistants_python/assistantThreads.ipynb Cell 17\u001b[0m line \u001b[0;36m2\n\u001b[1;32m      <a href='vscode-notebook-cell://codespaces%2Bjubilant-tribble-vqv46q6wrxj36p4r/workspaces/Assistants_python/assistantThreads.ipynb#X22sdnNjb2RlLXJlbW90ZQ%3D%3D?line=0'>1</a>\u001b[0m \u001b[39m# loop to see if run is complete\u001b[39;00m\n\u001b[0;32m----> <a href='vscode-notebook-cell://codespaces%2Bjubilant-tribble-vqv46q6wrxj36p4r/workspaces/Assistants_python/assistantThreads.ipynb#X22sdnNjb2RlLXJlbW90ZQ%3D%3D?line=1'>2</a>\u001b[0m \u001b[39mimport\u001b[39;00m \u001b[39mtime\u001b[39;00m\n\u001b[1;32m      <a href='vscode-notebook-cell://codespaces%2Bjubilant-tribble-vqv46q6wrxj36p4r/workspaces/Assistants_python/assistantThreads.ipynb#X22sdnNjb2RlLXJlbW90ZQ%3D%3D?line=2'>3</a>\u001b[0m \u001b[39mwhile\u001b[39;00m \u001b[39mTrue\u001b[39;00m:\n\u001b[1;32m      <a href='vscode-notebook-cell://codespaces%2Bjubilant-tribble-vqv46q6wrxj36p4r/workspaces/Assistants_python/assistantThreads.ipynb#X22sdnNjb2RlLXJlbW90ZQ%3D%3D?line=3'>4</a>\u001b[0m     status \u001b[39m=\u001b[39m client\u001b[39m.\u001b[39mbeta\u001b[39m.\u001b[39mthreads\u001b[39m.\u001b[39mruns\u001b[39m.\u001b[39mretrieve(\n\u001b[1;32m      <a href='vscode-notebook-cell://codespaces%2Bjubilant-tribble-vqv46q6wrxj36p4r/workspaces/Assistants_python/assistantThreads.ipynb#X22sdnNjb2RlLXJlbW90ZQ%3D%3D?line=4'>5</a>\u001b[0m         thread_id \u001b[39m=\u001b[39m thread\u001b[39m.\u001b[39mid,\n\u001b[1;32m      <a href='vscode-notebook-cell://codespaces%2Bjubilant-tribble-vqv46q6wrxj36p4r/workspaces/Assistants_python/assistantThreads.ipynb#X22sdnNjb2RlLXJlbW90ZQ%3D%3D?line=5'>6</a>\u001b[0m         run_id \u001b[39m=\u001b[39m run\u001b[39m.\u001b[39mid\n\u001b[1;32m      <a href='vscode-notebook-cell://codespaces%2Bjubilant-tribble-vqv46q6wrxj36p4r/workspaces/Assistants_python/assistantThreads.ipynb#X22sdnNjb2RlLXJlbW90ZQ%3D%3D?line=6'>7</a>\u001b[0m     )\n",
      "\u001b[1;32m/workspaces/Assistants_python/assistantThreads.ipynb Cell 17\u001b[0m line \u001b[0;36m2\n\u001b[1;32m      <a href='vscode-notebook-cell://codespaces%2Bjubilant-tribble-vqv46q6wrxj36p4r/workspaces/Assistants_python/assistantThreads.ipynb#X22sdnNjb2RlLXJlbW90ZQ%3D%3D?line=0'>1</a>\u001b[0m \u001b[39m# loop to see if run is complete\u001b[39;00m\n\u001b[0;32m----> <a href='vscode-notebook-cell://codespaces%2Bjubilant-tribble-vqv46q6wrxj36p4r/workspaces/Assistants_python/assistantThreads.ipynb#X22sdnNjb2RlLXJlbW90ZQ%3D%3D?line=1'>2</a>\u001b[0m \u001b[39mimport\u001b[39;00m \u001b[39mtime\u001b[39;00m\n\u001b[1;32m      <a href='vscode-notebook-cell://codespaces%2Bjubilant-tribble-vqv46q6wrxj36p4r/workspaces/Assistants_python/assistantThreads.ipynb#X22sdnNjb2RlLXJlbW90ZQ%3D%3D?line=2'>3</a>\u001b[0m \u001b[39mwhile\u001b[39;00m \u001b[39mTrue\u001b[39;00m:\n\u001b[1;32m      <a href='vscode-notebook-cell://codespaces%2Bjubilant-tribble-vqv46q6wrxj36p4r/workspaces/Assistants_python/assistantThreads.ipynb#X22sdnNjb2RlLXJlbW90ZQ%3D%3D?line=3'>4</a>\u001b[0m     status \u001b[39m=\u001b[39m client\u001b[39m.\u001b[39mbeta\u001b[39m.\u001b[39mthreads\u001b[39m.\u001b[39mruns\u001b[39m.\u001b[39mretrieve(\n\u001b[1;32m      <a href='vscode-notebook-cell://codespaces%2Bjubilant-tribble-vqv46q6wrxj36p4r/workspaces/Assistants_python/assistantThreads.ipynb#X22sdnNjb2RlLXJlbW90ZQ%3D%3D?line=4'>5</a>\u001b[0m         thread_id \u001b[39m=\u001b[39m thread\u001b[39m.\u001b[39mid,\n\u001b[1;32m      <a href='vscode-notebook-cell://codespaces%2Bjubilant-tribble-vqv46q6wrxj36p4r/workspaces/Assistants_python/assistantThreads.ipynb#X22sdnNjb2RlLXJlbW90ZQ%3D%3D?line=5'>6</a>\u001b[0m         run_id \u001b[39m=\u001b[39m run\u001b[39m.\u001b[39mid\n\u001b[1;32m      <a href='vscode-notebook-cell://codespaces%2Bjubilant-tribble-vqv46q6wrxj36p4r/workspaces/Assistants_python/assistantThreads.ipynb#X22sdnNjb2RlLXJlbW90ZQ%3D%3D?line=6'>7</a>\u001b[0m     )\n",
      "File \u001b[0;32m_pydevd_bundle/pydevd_cython.pyx:1457\u001b[0m, in \u001b[0;36m_pydevd_bundle.pydevd_cython.SafeCallWrapper.__call__\u001b[0;34m()\u001b[0m\n",
      "File \u001b[0;32m_pydevd_bundle/pydevd_cython.pyx:701\u001b[0m, in \u001b[0;36m_pydevd_bundle.pydevd_cython.PyDBFrame.trace_dispatch\u001b[0;34m()\u001b[0m\n",
      "File \u001b[0;32m_pydevd_bundle/pydevd_cython.pyx:1152\u001b[0m, in \u001b[0;36m_pydevd_bundle.pydevd_cython.PyDBFrame.trace_dispatch\u001b[0;34m()\u001b[0m\n",
      "File \u001b[0;32m_pydevd_bundle/pydevd_cython.pyx:1135\u001b[0m, in \u001b[0;36m_pydevd_bundle.pydevd_cython.PyDBFrame.trace_dispatch\u001b[0;34m()\u001b[0m\n",
      "File \u001b[0;32m_pydevd_bundle/pydevd_cython.pyx:312\u001b[0m, in \u001b[0;36m_pydevd_bundle.pydevd_cython.PyDBFrame.do_wait_suspend\u001b[0;34m()\u001b[0m\n",
      "File \u001b[0;32m~/.local/lib/python3.11/site-packages/debugpy/_vendored/pydevd/pydevd.py:2070\u001b[0m, in \u001b[0;36mPyDB.do_wait_suspend\u001b[0;34m(self, thread, frame, event, arg, exception_type)\u001b[0m\n\u001b[1;32m   2067\u001b[0m             from_this_thread\u001b[39m.\u001b[39mappend(frame_custom_thread_id)\n\u001b[1;32m   2069\u001b[0m     \u001b[39mwith\u001b[39;00m \u001b[39mself\u001b[39m\u001b[39m.\u001b[39m_threads_suspended_single_notification\u001b[39m.\u001b[39mnotify_thread_suspended(thread_id, thread, stop_reason):\n\u001b[0;32m-> 2070\u001b[0m         keep_suspended \u001b[39m=\u001b[39m \u001b[39mself\u001b[39;49m\u001b[39m.\u001b[39;49m_do_wait_suspend(thread, frame, event, arg, suspend_type, from_this_thread, frames_tracker)\n\u001b[1;32m   2072\u001b[0m frames_list \u001b[39m=\u001b[39m \u001b[39mNone\u001b[39;00m\n\u001b[1;32m   2074\u001b[0m \u001b[39mif\u001b[39;00m keep_suspended:\n\u001b[1;32m   2075\u001b[0m     \u001b[39m# This means that we should pause again after a set next statement.\u001b[39;00m\n",
      "File \u001b[0;32m~/.local/lib/python3.11/site-packages/debugpy/_vendored/pydevd/pydevd.py:2106\u001b[0m, in \u001b[0;36mPyDB._do_wait_suspend\u001b[0;34m(self, thread, frame, event, arg, suspend_type, from_this_thread, frames_tracker)\u001b[0m\n\u001b[1;32m   2103\u001b[0m         \u001b[39mself\u001b[39m\u001b[39m.\u001b[39m_call_input_hook()\n\u001b[1;32m   2105\u001b[0m     \u001b[39mself\u001b[39m\u001b[39m.\u001b[39mprocess_internal_commands()\n\u001b[0;32m-> 2106\u001b[0m     time\u001b[39m.\u001b[39msleep(\u001b[39m0.01\u001b[39m)\n\u001b[1;32m   2108\u001b[0m \u001b[39mself\u001b[39m\u001b[39m.\u001b[39mcancel_async_evaluation(get_current_thread_id(thread), \u001b[39mstr\u001b[39m(\u001b[39mid\u001b[39m(frame)))\n\u001b[1;32m   2110\u001b[0m \u001b[39m# process any stepping instructions\u001b[39;00m\n",
      "\u001b[0;31mKeyboardInterrupt\u001b[0m: "
     ]
    }
   ],
   "source": [
    "# loop to see if run is complete\n",
    "import time\n",
    "while True:\n",
    "    start = time.time()\n",
    "    status = client.beta.threads.runs.retrieve(\n",
    "        thread_id = thread.id,\n",
    "        run_id = run.id\n",
    "    )\n",
    "    if status.status == 'complete':\n",
    "        break\n",
    "    time.sleep(10)\n",
    "    if time.time() - start > 300:   # 5 minutes\n",
    "        break\n",
    "print(status)"
   ]
  },
  {
   "cell_type": "code",
   "execution_count": 41,
   "metadata": {},
   "outputs": [
    {
     "name": "stdout",
     "output_type": "stream",
     "text": [
      "[MessageContentText(text=Text(annotations=[], value=\"Hello! It looks like you're interested in buying a house and have uploaded a file that might be related to this process. How can I assist you with it today? If you need information extracted or summarized from the file, please let me know what you're looking for specifically.\"), type='text')]\n",
      "[MessageContentText(text=Text(annotations=[], value=\"Hello, I'm a message\"), type='text')]\n"
     ]
    }
   ],
   "source": [
    "# get all the messages\n",
    "messages = client.beta.threads.messages.list(\n",
    "    thread_id = thread.id\n",
    ")\n",
    "for message in messages:\n",
    "    print(message.content)"
   ]
  },
  {
   "cell_type": "code",
   "execution_count": null,
   "metadata": {},
   "outputs": [],
   "source": [
    "# clean up the assistant\n",
    "assistant = client.beta.assistants.delete(assistant.id)\n",
    "print(assistant)\n"
   ]
  }
 ],
 "metadata": {
  "kernelspec": {
   "display_name": "Python 3",
   "language": "python",
   "name": "python3"
  },
  "language_info": {
   "codemirror_mode": {
    "name": "ipython",
    "version": 3
   },
   "file_extension": ".py",
   "mimetype": "text/x-python",
   "name": "python",
   "nbconvert_exporter": "python",
   "pygments_lexer": "ipython3",
   "version": "3.11.4"
  }
 },
 "nbformat": 4,
 "nbformat_minor": 2
}
